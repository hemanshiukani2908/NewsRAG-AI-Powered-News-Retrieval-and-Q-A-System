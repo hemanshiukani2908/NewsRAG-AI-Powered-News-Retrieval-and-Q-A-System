{
 "cells": [
  {
   "cell_type": "code",
   "execution_count": 1,
   "id": "bb2cd4cf",
   "metadata": {},
   "outputs": [],
   "source": [
    "# pip install langchain==0.2.17\n",
    "# pip install --upgrade pip\n",
    "# pip install --no-cache-dir langchain==0.3.1"
   ]
  },
  {
   "cell_type": "markdown",
   "id": "d33e586b",
   "metadata": {},
   "source": [
    "## Document Loaders In LangChain"
   ]
  },
  {
   "cell_type": "markdown",
   "id": "8ce9a2bf",
   "metadata": {},
   "source": [
    "### 1. TextLoader"
   ]
  },
  {
   "cell_type": "code",
   "execution_count": 2,
   "id": "3e8465b9",
   "metadata": {},
   "outputs": [
    {
     "data": {
      "text/plain": [
       "Document(metadata={'source': 'nvda_news_1.txt'}, page_content=\"The stock of NVIDIA Corp (NASDAQ:NVDA) experienced a daily loss of -3.56% and a 3-month gain of 32.35%. With an Earnings Per Share (EPS) (EPS) of $1.92, the question arises: is the stock significantly overvalued? This article aims to provide a detailed valuation analysis of NVIDIA, offering insights into its financial strength, profitability, growth, and more. We invite you to delve into this comprehensive analysis.\\n\\nCompany Overview\\nWarning! GuruFocus has detected 10 Warning Signs with NVDA. Click here to check it out.\\n\\nNVDA 30-Year Financial Data\\n\\nThe intrinsic value of NVDA\\n\\n\\nNVIDIA Corp (NASDAQ:NVDA) is a leading designer of discrete graphics processing units that enhance the experience on computing platforms. The firm's chips are widely used in various end markets, including PC gaming and data centers. In recent years, NVIDIA has broadened its focus from traditional PC graphics applications such as gaming to more complex and favorable opportunities, including artificial intelligence and autonomous driving, leveraging the high-performance capabilities of its products.\\n\\nCurrently, NVIDIA's stock price stands at $418.01, significantly higher than the GF Value of $310.28, indicating the stock might be overvalued. With a market cap of $1 trillion, the valuation seems steep. The following analysis aims to delve deeper into the company's value.\\n\\nIs NVIDIA's Stock Significantly Overvalued? A Comprehensive Valuation Analysis\\nIs NVIDIA's Stock Significantly Overvalued? A Comprehensive Valuation Analysis\\nUnderstanding the GF Value\\nThe GF Value is a unique measure of the intrinsic value of a stock, calculated based on historical trading multiples, a GuruFocus adjustment factor, and future business performance estimates. If the stock price is significantly above the GF Value Line, it is overvalued, and its future return is likely to be poor. Conversely, if it is significantly below the GF Value Line, its future return will likely be higher.\\n\\nAccording to GuruFocus Value calculation, NVIDIA (NASDAQ:NVDA) appears to be significantly overvalued. The stock's current price of $418.01 per share and the market cap of $1 trillion further strengthen this assumption.\\n\\nGiven that NVIDIA is significantly overvalued, the long-term return of its stock is likely to be much lower than its future business growth.\\n\\nIs NVIDIA's Stock Significantly Overvalued? A Comprehensive Valuation Analysis\\nIs NVIDIA's Stock Significantly Overvalued? A Comprehensive Valuation Analysis\\nLink: These companies may deliver higher future returns at reduced risk.\\n\\nFinancial Strength of NVIDIA\\nExamining the financial strength of a company is crucial before investing in its stock. Companies with poor financial strength pose a higher risk of permanent loss. NVIDIA's cash-to-debt ratio of 1.27 is worse than 58.04% of companies in the Semiconductors industry. However, NVIDIA's overall financial strength is 8 out of 10, indicating a strong financial position.\\n\\nIs NVIDIA's Stock Significantly Overvalued? A Comprehensive Valuation Analysis\\nIs NVIDIA's Stock Significantly Overvalued? A Comprehensive Valuation Analysis\\nProfitability and Growth\\nConsistent profitability over the long term reduces the risk for investors. NVIDIA, with its profitability ranking of 10 out of 10, has been profitable for the past 10 years. The company's operating margin of 17.37% ranks better than 76.5% of companies in the Semiconductors industry.\\n\\nHowever, growth is a crucial factor in a company's valuation. NVIDIA's growth ranks worse than 52.99% of companies in the Semiconductors industry, with its 3-year average revenue growth rate better than 87.88% of companies in the industry.\\n\\nROIC vs WACC\\nComparing a company's return on invested capital (ROIC) to its weighted average cost of capital (WACC) is an effective way to evaluate its profitability. Over the past 12 months, NVIDIA's ROIC was 20.32 while its WACC was 16.74, suggesting that the company is creating value for its shareholders.\\n\\nIs NVIDIA's Stock Significantly Overvalued? A Comprehensive Valuation Analysis\\nIs NVIDIA's Stock Significantly Overvalued? A Comprehensive Valuation Analysis\\nConclusion\\nIn conclusion, NVIDIA (NASDAQ:NVDA) appears to be significantly overvalued. Despite its strong financial condition and profitability, its growth ranks lower than 52.99% of companies in the Semiconductors industry. To learn more about NVIDIA stock, you can check out its 30-Year Financials here.\\n\\nTo find out the high quality companies that may deliver above-average returns, please check out GuruFocus High Quality Low Capex Screener.\\n\\nThis article first appeared on GuruFocus.\")"
      ]
     },
     "execution_count": 2,
     "metadata": {},
     "output_type": "execute_result"
    }
   ],
   "source": [
    "from langchain.document_loaders import TextLoader\n",
    "\n",
    "loader = TextLoader(\"nvda_news_1.txt\")\n",
    "loader.load()[0]"
   ]
  },
  {
   "cell_type": "code",
   "execution_count": 3,
   "id": "2d41323c",
   "metadata": {},
   "outputs": [
    {
     "data": {
      "text/plain": [
       "'nvda_news_1.txt'"
      ]
     },
     "execution_count": 3,
     "metadata": {},
     "output_type": "execute_result"
    }
   ],
   "source": [
    "loader.file_path"
   ]
  },
  {
   "cell_type": "markdown",
   "id": "aa3482fe",
   "metadata": {},
   "source": [
    "### 2. CSVLoader"
   ]
  },
  {
   "cell_type": "code",
   "execution_count": 4,
   "id": "e61e3f97",
   "metadata": {},
   "outputs": [],
   "source": [
    "from langchain.document_loaders.csv_loader import CSVLoader"
   ]
  },
  {
   "cell_type": "code",
   "execution_count": 5,
   "id": "c2c2f679",
   "metadata": {},
   "outputs": [
    {
     "data": {
      "text/plain": [
       "Document(metadata={'source': 'movies.csv', 'row': 0}, page_content='movie_id: 101\\ntitle: K.G.F: Chapter 2\\nindustry: Bollywood\\nrelease_year: 2022\\nimdb_rating: 8.4\\nstudio: Hombale Films\\nlanguage_id: 3\\nbudget: 1\\nrevenue: 12.5\\nunit: Billions\\ncurrency: INR')"
      ]
     },
     "execution_count": 5,
     "metadata": {},
     "output_type": "execute_result"
    }
   ],
   "source": [
    "loader = CSVLoader(file_path=\"movies.csv\")\n",
    "data = loader.load()\n",
    "data[0]"
   ]
  },
  {
   "cell_type": "code",
   "execution_count": null,
   "id": "5eca3428",
   "metadata": {},
   "outputs": [],
   "source": []
  },
  {
   "cell_type": "markdown",
   "id": "29090441",
   "metadata": {},
   "source": [
    "### UnstructuredURLLoader\n",
    "UnstructuredURLLoader of Langchain internally uses unstructured python library to load the content from url's\n",
    "\n",
    "https://unstructured-io.github.io/unstructured/introduction.html\n",
    "\n",
    "https://pypi.org/project/unstructured/#description"
   ]
  },
  {
   "cell_type": "code",
   "execution_count": 6,
   "id": "2e7dd0ad",
   "metadata": {},
   "outputs": [
    {
     "name": "stderr",
     "output_type": "stream",
     "text": [
      "USER_AGENT environment variable not set, consider setting it to identify your requests.\n"
     ]
    },
    {
     "name": "stdout",
     "output_type": "stream",
     "text": [
      "2\n"
     ]
    }
   ],
   "source": [
    "from langchain_community.document_loaders import WebBaseLoader\n",
    "\n",
    "# Define the URLs to load\n",
    "urls = [\n",
    "    \"https://www.moneycontrol.com/news/business/banks/hdfc-bank-re-appoints-sanmoy-chakrabarti-as-chief-risk-officer-11259771.html\",\n",
    "    \"https://www.moneycontrol.com/news/business/markets/market-corrects-post-rbi-ups-inflation-forecast-icrr-bet-on-these-top-10-rate-sensitive-stocks-ideas-11142611.html\"\n",
    "]\n",
    "\n",
    "# Load documents from URLs\n",
    "loader = WebBaseLoader(urls)\n",
    "data = loader.load()\n",
    "\n",
    "# Check the number of documents loaded\n",
    "print(len(data))  # Should print 2 if both URLs are accessible"
   ]
  },
  {
   "cell_type": "code",
   "execution_count": 7,
   "id": "e4e11376",
   "metadata": {},
   "outputs": [
    {
     "name": "stdout",
     "output_type": "stream",
     "text": [
      "  HDFC Bank re-appoints Sanmoy Chakrabarti as Chief Risk Officer             \n",
      "\n",
      "  \n",
      "\n",
      "      \n",
      "\n",
      "   \n",
      "\n",
      "  EnglishHindiGujaratiSpecialsSearch Quotes, News, Mutual Fund NAVsTrending StocksKalyan Jeweller INE303R01014, KALYANKJIL, 543278ITC Hotels INE379A01028, ITCHOTELS, 544325Ola Electric INE0LXG01040, OLAELEC, 544225Suzlon Energy INE040H01021, SUZLON, 532667Reliance INE002A01018, RELIANCE, 500325QuotesMutual FundsCommoditiesFutures & OptionsCurrencyNewsCryptocurrencyForumNoticesVideosGlossaryAll  Hello,\n",
      "  Market corrects post RBI MPC outcome| Bet on these top 10 rate-sensitive stocks             \n",
      "\n",
      "  \n",
      "\n",
      "      \n",
      "\n",
      "   \n",
      "\n",
      "  EnglishHindiGujaratiSpecialsSearch Quotes, News, Mutual Fund NAVsTrending StocksKalyan Jeweller INE303R01014, KALYANKJIL, 543278ITC Hotels INE379A01028, ITCHOTELS, 544325Ola Electric INE0LXG01040, OLAELEC, 544225Suzlon Energy INE040H01021, SUZLON, 532667Reliance INE002A01018, RELIANCE, 500325QuotesMutual FundsCommoditiesFutures & OptionsCurrencyNewsCryptocurrencyForumNoticesVideosGl\n"
     ]
    }
   ],
   "source": [
    "for doc in data:\n",
    "    print(doc.page_content[:500])"
   ]
  },
  {
   "cell_type": "code",
   "execution_count": 8,
   "id": "b0ba10af",
   "metadata": {},
   "outputs": [
    {
     "data": {
      "text/plain": [
       "{'source': 'https://www.moneycontrol.com/news/business/banks/hdfc-bank-re-appoints-sanmoy-chakrabarti-as-chief-risk-officer-11259771.html',\n",
       " 'title': 'HDFC Bank re-appoints Sanmoy Chakrabarti as Chief Risk Officer',\n",
       " 'description': 'Chakrabarti has been appointed for a period of five years from December 14, 2023 to December 13, 2028.',\n",
       " 'language': 'en'}"
      ]
     },
     "execution_count": 8,
     "metadata": {},
     "output_type": "execute_result"
    }
   ],
   "source": [
    "data[0].metadata"
   ]
  },
  {
   "cell_type": "code",
   "execution_count": null,
   "id": "4eb75dcd",
   "metadata": {},
   "outputs": [],
   "source": []
  },
  {
   "cell_type": "markdown",
   "id": "dda86c02",
   "metadata": {},
   "source": [
    "### Text Splitters\n",
    "\n",
    "#### Why do we need text splitters in first place?\n",
    "\n",
    "    LLM's have token limits. Hence we need to split the text which can be large into small chunks so that each chunk size is under the token limit. There are various text splitter classes in langchain that allows us to do this."
   ]
  },
  {
   "cell_type": "code",
   "execution_count": 9,
   "id": "600d9304",
   "metadata": {},
   "outputs": [],
   "source": [
    "text = '''Friends is an American television sitcom created by David Crane and Marta Kauffman, which aired on NBC from September 22, 1994, to May 6, 2004, lasting ten seasons.[1] With an ensemble cast starring Jennifer Aniston, Courteney Cox, Lisa Kudrow, Matt LeBlanc, Matthew Perry and David Schwimmer, the show revolves around six friends in their 20s and early 30s who live in Manhattan, New York City. The original executive producers were Kevin S. Bright, Kauffman, and David Crane.\n",
    "\n",
    "Kauffman and Crane began developing Friends under the working title Insomnia Cafe between November and December 1993. They presented the idea to Bright, and together they pitched a seven-page treatment of the show to NBC. After several script rewrites and changes, including title changes to Six of One[2] and Friends Like Us, the series was finally named Friends.[3] Filming took place at Warner Bros. Studios in Burbank, California. The series was produced by Bright/Kauffman/Crane Productions and Warner Bros. Television.\n",
    "\n",
    "The show ranked within the top ten of the final television season ratings; it ultimately reached the number-one spot in its eighth season. The series finale aired on May 6, 2004, and was watched by around 52.5 million American viewers, making it the fifth-most-watched series finale in television history[4][5][6] and the most-watched television episode of the 2000s.[7][8] Friends received acclaim throughout its run, becoming one of the most popular television shows of all time.[9] It is also one of the most successful and highest-grossing television shows of all time, having grossed an estimated $1.4 billion since its debut.[10] The series was nominated for 62 Primetime Emmy Awards, winning the Outstanding Comedy Series award in 2002 for its eighth season.[11] The show ranked no. 21 on TV Guide's 50 Greatest TV Shows of All Time,[12] no. 29 on Variety magazine's The 100 Greatest TV Shows of All Time,[13] and no. 5 on Empire magazine's The 50 Greatest TV Shows of All Time.[14] In 1997, the episode \"The One with the Prom Video\" was ranked no. 100 on TV Guide's 100 Greatest Episodes of All-Time.[15] In 2013, Friends ranked no. 24 on the Writers Guild of America's 101 Best Written TV Series of All Time,[16] and no. 28 on TV Guide's 60 Best TV Series of All Time.[17] The sitcom's cast members returned for Friends: The Reunion, a reunion special which was released on HBO Max on May 27, 2021.'''"
   ]
  },
  {
   "cell_type": "markdown",
   "id": "54c3b11e",
   "metadata": {},
   "source": [
    "#### 1. Manual approach of splitting the text into chunks"
   ]
  },
  {
   "cell_type": "code",
   "execution_count": 10,
   "id": "e0e4193b",
   "metadata": {},
   "outputs": [
    {
     "data": {
      "text/plain": [
       "'Friends is an American television sitcom created by David Crane and Marta Kauffman, which aired on NBC from September 22, 1994, to May 6, 2004, lasting ten seasons.[1] With an ensemble cast starring J'"
      ]
     },
     "execution_count": 10,
     "metadata": {},
     "output_type": "execute_result"
    }
   ],
   "source": [
    "# if LLM token limit is 200, in that case we can do simple thing such as this\n",
    "\n",
    "text[0:200]"
   ]
  },
  {
   "cell_type": "code",
   "execution_count": 11,
   "id": "fca24ff2",
   "metadata": {},
   "outputs": [
    {
     "data": {
      "text/plain": [
       "392"
      ]
     },
     "execution_count": 11,
     "metadata": {},
     "output_type": "execute_result"
    }
   ],
   "source": [
    "# Well but we want complete words and want to do this for entire text, may be we can use Python's split funciton\n",
    "\n",
    "words = text.split(\" \")\n",
    "len(words)"
   ]
  },
  {
   "cell_type": "code",
   "execution_count": 12,
   "id": "3d60d1ad",
   "metadata": {},
   "outputs": [
    {
     "name": "stdout",
     "output_type": "stream",
     "text": [
      "First chunk by mannually python scripts ::::::\n",
      "\n",
      "Friends is an American television sitcom created by David Crane and Marta Kauffman, which aired on NBC from September 22, 1994, to May 6, 2004, lasting ten seasons.[1] With an ensemble cast starring Jennifer \n"
     ]
    }
   ],
   "source": [
    "chunks = []\n",
    "\n",
    "s = \"\"\n",
    "for word in words:\n",
    "    s += word + \" \"\n",
    "    if len(s)>200:\n",
    "        chunks.append(s)\n",
    "        s = \"\"\n",
    "        \n",
    "chunks.append(s)\n",
    "print(f\"First chunk by mannually python scripts ::::::\\n\\n{chunks[0]}\")"
   ]
  },
  {
   "cell_type": "markdown",
   "id": "82c0969f",
   "metadata": {},
   "source": [
    "### 2. Using Text Splitter Classes from Langchain\n",
    "\n",
    "Bcz, Splitting data into chunks can be done in native python but it is a tidious process. Also if necessary, you may need to experiment with various delimiters in an iterative manner to ensure that each chunk does not exceed the token length limit of the respective LLM.\n",
    "\n",
    "<b>Langchain provides a better way through text splitter classes.</b>"
   ]
  },
  {
   "cell_type": "code",
   "execution_count": 13,
   "id": "3749166e",
   "metadata": {},
   "outputs": [
    {
     "name": "stdout",
     "output_type": "stream",
     "text": [
      "Total Chunks: 6\n",
      "Chunk 1 Token Count: 100\n",
      "Chunk 2 Token Count: 100\n",
      "Chunk 3 Token Count: 100\n",
      "Chunk 4 Token Count: 100\n",
      "Chunk 5 Token Count: 100\n",
      "Chunk 6 Token Count: 79\n"
     ]
    }
   ],
   "source": [
    "from langchain_text_splitters import TokenTextSplitter\n",
    "import tiktoken  # TikToken library used by OpenAI models for tokenization\n",
    "\n",
    "# Initialize tokenizer using OpenAI's \"cl100k_base\" tokenizer\n",
    "encoding = tiktoken.get_encoding(\"cl100k_base\")\n",
    "\n",
    "# Tokenize the text into tokens\n",
    "tokens = encoding.encode(text)\n",
    "\n",
    "# Create chunks ensuring each chunk has a max of 100 tokens\n",
    "max_chunk_size = 100\n",
    "chunks = []\n",
    "\n",
    "for i in range(0, len(tokens), max_chunk_size):\n",
    "    chunk = tokens[i:i+max_chunk_size]\n",
    "    chunks.append(encoding.decode(chunk))  # Decode the tokens back into text\n",
    "\n",
    "# Print total chunks and their token counts\n",
    "print(f\"Total Chunks: {len(chunks)}\")\n",
    "for i, chunk in enumerate(chunks):\n",
    "    # Re-tokenize the chunk to check token count\n",
    "    chunk_tokens = encoding.encode(chunk)\n",
    "    print(f\"Chunk {i+1} Token Count: {len(chunk_tokens)}\")"
   ]
  }
 ],
 "metadata": {
  "kernelspec": {
   "display_name": "Python 3",
   "language": "python",
   "name": "python3"
  },
  "language_info": {
   "codemirror_mode": {
    "name": "ipython",
    "version": 3
   },
   "file_extension": ".py",
   "mimetype": "text/x-python",
   "name": "python",
   "nbconvert_exporter": "python",
   "pygments_lexer": "ipython3",
   "version": "3.8.8"
  }
 },
 "nbformat": 4,
 "nbformat_minor": 5
}
